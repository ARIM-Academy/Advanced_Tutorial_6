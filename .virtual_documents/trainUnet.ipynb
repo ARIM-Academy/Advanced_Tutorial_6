!git clone https://github.com/ARIM-Academy/Advanced_Tutorial_6.git
%cd Advanced_Tutorial_6


from model import *
from data import *








data_gen_args = dict(rotation_range=0.2,
                    width_shift_range=0.05,
                    height_shift_range=0.05,
                    shear_range=0.05,
                    zoom_range=0.05,
                    horizontal_flip=True,
                    fill_mode='nearest')

myGene = trainGenerator(2,'data/membrane/train','image','label',data_gen_args,save_to_dir = None)
model = unet()

# ModelCheckpoint の設定（損失値に基づいて最良モデルを保存）
model_checkpoint = ModelCheckpoint('unet_membrane.keras', monitor='loss', verbose=1, save_best_only=True)

# fit メソッドでデータジェネレータを使う
model.fit(myGene, steps_per_epoch=2000, epochs=5, callbacks=[model_checkpoint])





#imgs_train,imgs_mask_train = geneTrainNpy("data/membrane/train/aug/","data/membrane/train/aug/")
#model.fit(imgs_train, imgs_mask_train, batch_size=2, nb_epoch=10, verbose=1,validation_split=0.2, shuffle=True, callbacks=[model_checkpoint])





testGene = testGenerator("data/membrane/test")
model = unet()
model.load_weights("unet_membrane.keras")
results = model.predict(testGene,30,verbose=1)
saveResult("data/membrane/test",results)
