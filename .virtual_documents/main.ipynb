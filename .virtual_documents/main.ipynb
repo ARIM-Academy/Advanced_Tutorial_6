!git clone https://github.com/ARIM-Academy/Advanced_Tutorial_6.git
%cd Advanced_Tutorial_6








#汎用ライブラリ
import matplotlib.pyplot as plt
from PIL import Image

# モジュール
from model import *
from data import *





data_gen_args = dict(rotation_range=0.2,
                    width_shift_range=0.05,
                    height_shift_range=0.05,
                    shear_range=0.05,
                    zoom_range=0.05,
                    horizontal_flip=True,
                    fill_mode='nearest')

myGene = trainGenerator(20,
                        'data/membrane/train',
                        'image',
                        'label',
                        data_gen_args,
                        save_to_dir = "data/membrane/train/aug"
                       )





#you will see 60 transformed images and their masks in data/membrane/train/aug
num_batch = 3
for i,batch in enumerate(myGene):
    if(i >= num_batch):
        break





image_arr,mask_arr = geneTrainNpy("data/membrane/train/aug/","data/membrane/train/aug/")
np.save("data/image_arr.npy",image_arr)
np.save("data/mask_arr.npy",mask_arr)





model = unet()

# ModelCheckpoint の設定（損失値に基づいて最良モデルを保存）
model_checkpoint = ModelCheckpoint('unet_membrane.keras', 
                                   monitor='loss', 
                                   verbose=1, 
                                   save_best_only=True)





history = model.fit(image_arr,
                    mask_arr,
                    batch_size = 100,
                    epochs = 50,
                    verbose = 1,
                    validation_split = 0.2, 
                    shuffle = True,
                    callbacks=[model_checkpoint]
                   )


#history = model.fit(myGene,
#                    steps_per_epoch=300,
#                    epochs=10,
#                    verbose = 1,
#                    validation_split = 0.2, 
#                    shuffle = True,
#                    callbacks=[model_checkpoint]
#                    )





# Plot training & validation accuracy values
plt.plot(history.history['accuracy'])
plt.plot(history.history['val_accuracy'])
plt.title('Model accuracy')
plt.ylabel('accuracy')
plt.xlabel('Epoch')
plt.legend(['Train', 'Test'], loc='upper left')
plt.show()


# Plot training & validation loss values
plt.plot(history.history['loss'])
plt.plot(history.history['val_loss'])
plt.title('Model loss')
plt.ylabel('Loss')
plt.xlabel('Epoch')
plt.legend(['Train', 'Test'], loc='upper left')
plt.show()





#model = unet()
#model.load_weights("unet_membrane.keras")


testGene = testGenerator("data/membrane/test")

results = model.predict(testGene,
                        steps = 30,
                        verbose=1)





saveResult("data/membrane/test/test_results",results)
