!git clone https://github.com/ARIM-Academy/Advanced_Tutorial_6.git
%cd Advanced_Tutorial_6


# サンプルコード　セマンティックセグメンテーション（U-Net）





#汎用ライブラリ
import matplotlib.pyplot as plt

# モジュール
from model import *
from data import *





data_gen_args = dict(rotation_range=0.2,
                    width_shift_range=0.05,
                    height_shift_range=0.05,
                    shear_range=0.05,
                    zoom_range=0.05,
                    horizontal_flip=True,
                    fill_mode='nearest')

myGene = trainGenerator(20,
                        'data/membrane/train',
                        'image',
                        'label',
                        data_gen_args,
                        save_to_dir = "data/membrane/train/aug"
                       )





num_batch = 3
for i,batch in enumerate(myGene):
    if(i >= num_batch):
        break





train_image,train_mask = geneTrainNpy("data/membrane/train/aug/","data/membrane/train/aug/")
np.save("data/train_image.npy",train_image)
np.save("data/train_mask.npy",train_mask)





model = unet()

# ModelCheckpoint の設定（損失値に基づいて最良モデルを保存）
model_checkpoint = ModelCheckpoint('unet_membrane.keras', 
                                   monitor='loss', 
                                   verbose=1, 
                                   save_best_only=True)





%%time
history = model.fit(train_image,train_mask,
                    batch_size = 100,
                    epochs = 50,
                    verbose = 1,
                    validation_split = 0.2, 
                    shuffle = True,
                    callbacks=[model_checkpoint]
                   )


#history = model.fit(myGene,
#                    steps_per_epoch=300,
#                    epochs=10,
#                    callbacks=[model_checkpoint]
#                    )





train_loss,train_acc = model.evaluate(train_image,train_mask)

print ('訓練データの損失関数の値', train_loss)
print ('訓練データの分類精度',train_acc)





#損失関数の値
loss = history.history['loss']
val_loss=history.history['val_loss']


#損失関数の値の可視化
plt.plot(loss, 'black', label='training')
plt.plot(val_loss, 'red', label='test')

plt.xlabel('Epoch')
plt.ylabel('Loss')
plt.legend()
plt.show()


#分類精度
acc = history.history['accuracy']
val_acc=history.history['val_accuracy']


#分類精度の可視化
plt.plot(acc, 'black', label='training')
plt.plot(val_acc, 'red', label='test')

plt.xlabel('Epoch')
plt.ylabel('Accuracy')
plt.legend()
plt.show()





#model = unet()
#model.load_weights("unet_membrane.keras")


testGene = testGenerator("data/membrane/test")

results = model.predict(testGene,
                        steps = 30,
                        verbose=1)





saveResult("data/membrane/test/test_results",results)
